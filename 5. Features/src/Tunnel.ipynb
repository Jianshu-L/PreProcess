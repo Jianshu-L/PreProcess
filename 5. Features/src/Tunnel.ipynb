{
 "cells": [
  {
   "cell_type": "code",
   "execution_count": 13,
   "id": "8b2daba5",
   "metadata": {},
   "outputs": [],
   "source": [
    "from src.DataProvider import DataProvider\n",
    "import pandas as pd"
   ]
  },
  {
   "cell_type": "code",
   "execution_count": 6,
   "id": "0666f4f0",
   "metadata": {},
   "outputs": [
    {
     "name": "stdout",
     "output_type": "stream",
     "text": [
      "load omegaL-23-Jan-2021-1.pickle\n",
      "{0, 29, 30, -1}\n",
      "load omegaL-15-Dec-2021-1.pickle\n",
      "{0, 29, -1}\n",
      "load omegaL-16-Jul-2021-1.pickle\n",
      "{0, 29, 30, -1}\n",
      "load omegaL-26-Dec-2020-1.pickle\n",
      "{0, 29, -1, 30}\n",
      "load omegaL-03-Jun-2021-3.pickle\n",
      "{0, 29, -1, 30}\n",
      "load omegaL-06-Mar-2021-1.pickle\n",
      "{0, 29, 30, -1}\n",
      "load omegaL-27-Jul-2021-1.pickle\n",
      "{0, 29, -1, 30}\n",
      "load omegaL-26-Feb-2021-2.pickle\n",
      "{0, 29, -1, 30}\n",
      "load omegaL-05-Aug-2021-1.pickle\n",
      "{0, 29, -1, 30}\n",
      "load omegaL-22-Dec-2021-1.pickle\n",
      "{0, 29, -1, 30}\n"
     ]
    }
   ],
   "source": [
    "dataFrame = DataProvider(dataPath = \"data/Omega\",iterNum = 10)\n",
    "for loop in dataFrame:\n",
    "    print(set([dataFrame.df.pacmanPos[i][0] for i in range(0,dataFrame.df.shape[0])\n",
    "     if dataFrame.df.pacmanPos[i][0] in [-1,0,29,30]]))"
   ]
  },
  {
   "cell_type": "code",
   "execution_count": 5,
   "id": "aff74af0",
   "metadata": {},
   "outputs": [
    {
     "name": "stdout",
     "output_type": "stream",
     "text": [
      "load omegaL-06-Mar-2021-1.pickle\n",
      "{0, 29, 30, -1}\n",
      "load omegaL-17-Jun-2021-1.pickle\n",
      "{0, 29, -1, 30}\n",
      "load omegaL-28-Jul-2021-1.pickle\n",
      "{0, 29, -1, 30}\n",
      "load omegaL-27-Mar-2021-2.pickle\n",
      "{0, 29, -1, 30}\n",
      "load omegaL-16-Dec-2020-2.pickle\n",
      "{0, 29, -1, 30}\n",
      "load omegaL-21-Oct-2021-1.pickle\n",
      "{0, 29, 30, -1}\n",
      "load omegaL-17-Mar-2021-1.pickle\n",
      "{0, 29, -1, 30}\n",
      "load omegaL-09-Dec-2020-1.pickle\n",
      "{0, 29, -1, 30}\n",
      "load omegaL-19-Nov-2021-1.pickle\n",
      "{0, 29, -1, 30}\n",
      "load omegaL-04-May-2021-1.pickle\n",
      "{0, 29, 30, -1}\n"
     ]
    }
   ],
   "source": [
    "dataFrame = DataProvider(dataPath = \"data/Omega\",iterNum = 10)\n",
    "dataFrame.shuffle()\n",
    "for loop in dataFrame:\n",
    "    print(set([dataFrame.df.pacmanPos[i][0] for i in range(0,dataFrame.df.shape[0])\n",
    "     if dataFrame.df.pacmanPos[i][0] in [-1,0,29,30]]))"
   ]
  },
  {
   "cell_type": "code",
   "execution_count": null,
   "id": "32aa6cc4",
   "metadata": {},
   "outputs": [],
   "source": []
  }
 ],
 "metadata": {
  "kernelspec": {
   "display_name": "Python 3 (ipykernel)",
   "language": "python",
   "name": "python3"
  },
  "language_info": {
   "codemirror_mode": {
    "name": "ipython",
    "version": 3
   },
   "file_extension": ".py",
   "mimetype": "text/x-python",
   "name": "python",
   "nbconvert_exporter": "python",
   "pygments_lexer": "ipython3",
   "version": "3.8.12"
  }
 },
 "nbformat": 4,
 "nbformat_minor": 5
}
