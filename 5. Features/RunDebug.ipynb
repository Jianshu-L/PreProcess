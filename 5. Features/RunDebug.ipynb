{
 "cells": [
  {
   "cell_type": "code",
   "execution_count": 1,
   "id": "ad4ec64c",
   "metadata": {},
   "outputs": [],
   "source": [
    "from src.DataProvider import DataProvider\n",
    "from src.DataFeatures import DataFeatures\n",
    "import pandas as pd\n",
    "import numpy as np\n",
    "import re"
   ]
  },
  {
   "cell_type": "code",
   "execution_count": 2,
   "id": "23557ae6",
   "metadata": {},
   "outputs": [],
   "source": [
    "dfo = DataProvider(\"data/Patamon\")\n",
    "features = DataFeatures()"
   ]
  },
  {
   "cell_type": "code",
   "execution_count": null,
   "id": "e0dcc1c1",
   "metadata": {},
   "outputs": [],
   "source": [
    "for loop in dfo:\n",
    "    trial = dfo.df\n",
    "    debug = 1\n",
    "    while debug:\n",
    "        try:\n",
    "            behaviour_features = features.test(trial)\n",
    "            debug = 0\n",
    "        except Exception as inst:\n",
    "            bugPos = inst.args[0]\n",
    "            print(bugPos,np.where(dfo.df.pacmanPos == bugPos)[0][0])\n",
    "            trial = dfo.deleteBugRound(trial,bugPos)\n",
    "            print(\"**********\")"
   ]
  },
  {
   "cell_type": "code",
   "execution_count": null,
   "id": "afa6ac78",
   "metadata": {},
   "outputs": [],
   "source": [
    "# print(type(inst))    # the exception instance\n",
    "# print(inst.args)     # arguments stored in .args\n",
    "# print(inst)          # __str__ allows args to be printed directly,\n",
    "#                      # but may be overridden in exception subclasses\n",
    "# x, y = inst.args     # unpack args\n",
    "# print('x =', x)\n",
    "# print('y =', y)"
   ]
  },
  {
   "cell_type": "code",
   "execution_count": 4,
   "id": "568b8376",
   "metadata": {},
   "outputs": [
    {
     "name": "stdout",
     "output_type": "stream",
     "text": [
      "load Patamon-27-Feb-2021-1.pickle\n",
      "(13, 28)\n",
      "round 6 of Patamon-27-Feb-2021-1.pickle has pacman position in wall\n",
      "**********\n",
      "(13, 10)\n",
      "round 23 of Patamon-27-Feb-2021-1.pickle has pacman position in wall\n",
      "**********\n"
     ]
    }
   ],
   "source": [
    "#!/usr/bin/env python\n",
    "# coding: utf-8\n",
    "\n",
    "# In[9]:\n",
    "\n",
    "\n",
    "from src.DataProvider import DataProvider\n",
    "from src.DataFeatures import DataFeatures\n",
    "import os\n",
    "\n",
    "\n",
    "# In[2]:\n",
    "\n",
    "\n",
    "features = DataFeatures()\n",
    "\n",
    "\n",
    "# In[7]:\n",
    "\n",
    "\n",
    "dfo = DataProvider(\"data/bug\")\n",
    "for loop in dfo:\n",
    "    trial = dfo.df\n",
    "    debug = 1\n",
    "    while debug:\n",
    "        try:\n",
    "            behaviour_features = features.extractFeatures(trial)\n",
    "            debug = 0\n",
    "        except Exception as inst:\n",
    "            bugPos = inst.args[0]\n",
    "            print(bugPos)\n",
    "            trial = dfo.deleteBugRound(trial,bugPos)\n",
    "            print(\"**********\")\n",
    "    behaviour_features.to_pickle(dfo.fileName.replace(\".pickle\",\"-F.pickle\"))"
   ]
  },
  {
   "cell_type": "code",
   "execution_count": null,
   "id": "8d628ba2",
   "metadata": {},
   "outputs": [],
   "source": []
  }
 ],
 "metadata": {
  "kernelspec": {
   "display_name": "Python 3 (ipykernel)",
   "language": "python",
   "name": "python3"
  },
  "language_info": {
   "codemirror_mode": {
    "name": "ipython",
    "version": 3
   },
   "file_extension": ".py",
   "mimetype": "text/x-python",
   "name": "python",
   "nbconvert_exporter": "python",
   "pygments_lexer": "ipython3",
   "version": "3.8.12"
  }
 },
 "nbformat": 4,
 "nbformat_minor": 5
}
