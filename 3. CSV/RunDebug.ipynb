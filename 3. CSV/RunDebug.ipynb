{
 "cells": [
  {
   "cell_type": "code",
   "execution_count": 35,
   "id": "76d965b3",
   "metadata": {},
   "outputs": [],
   "source": [
    "#!/usr/bin/env python\n",
    "# coding: utf-8\n",
    "\n",
    "# In[1]:\n",
    "\n",
    "\n",
    "import os\n",
    "import pandas as pd\n",
    "import numpy as np\n",
    "import pickle as pkl\n",
    "import sys\n",
    "import multiprocessing\n",
    "sys.path.append(\"./\")\n",
    "from datetime import datetime\n",
    "\n",
    "\n",
    "# In[2]:\n",
    "\n",
    "\n",
    "def transData(df, dfR):\n",
    "    data = dict({\"pacmanPos\": tuple_list(df[[\"pacMan_1\",\"pacMan_2\"]].values),\n",
    "                 \"ghost1Pos\": tuple_list(df[[\"ghost1_1\",\"ghost1_2\"]].values),\n",
    "                 \"ghost2Pos\": tuple_list(df[[\"ghost2_1\",\"ghost2_2\"]].values),\n",
    "                 \"ifscared1\": df[\"ghost1_3\"].values,\n",
    "                 \"ifscared2\": df[\"ghost2_3\"].values,\n",
    "                 \"pacman_dir\": df[\"pDir\"].values,\n",
    "                 \"JoyStick\": df[\"JoyStick\"].values\n",
    "                })\n",
    "    Bev = pd.DataFrame.from_dict(data)\n",
    "    dataFrame = pd.concat([df[['DayTrial','Step']],Bev],axis=1)\n",
    "    bIndex = [findIndex(df['Map'][i], \".\") for i in range(0,df.shape[0])]\n",
    "    beans = [ItoP(Index) for Index in bIndex]\n",
    "    bIndex = [findIndex(df['Map'][i], \"o\") for i in range(0,df.shape[0])]\n",
    "    energizers = [ItoP(Index) for Index in bIndex]\n",
    "    data = dict({\"beans\": beans,\n",
    "                \"energizers\": energizers})\n",
    "    Rewd = pd.DataFrame.from_dict(data)\n",
    "    dataFrame = pd.concat([dataFrame,Rewd],axis=1)\n",
    "    F = dfR.loc[dfR.Reward.isin(range(3,8))]\n",
    "    Fruits = F.groupby([\"DayTrial\", \"Step\"]).apply(lambda x: list(zip(x.X,x.Y))).rename(\"fruitPos\").reset_index()\n",
    "    Ft = F.groupby([\"DayTrial\", \"Step\"]).apply(lambda x: x.Reward).rename(\"fruitType\").reset_index().drop(columns = \"level_2\")\n",
    "    dataFrame = pd.merge(dataFrame, Fruits, on=[\"DayTrial\", \"Step\"], how=\"left\")\n",
    "    dataFrame = pd.merge(dataFrame, Ft, on=[\"DayTrial\", \"Step\"], how=\"left\")\n",
    "    dfS = df.loc[:, df.columns.values[list([0,1])+list(range(28,df.columns.values.shape[0]))]]\n",
    "    dataFrame = pd.merge(dataFrame, dfS,on=[\"DayTrial\", \"Step\"], how=\"left\")\n",
    "    return dataFrame\n",
    "\n",
    "\n",
    "# In[3]:\n",
    "\n",
    "\n",
    "def tuple_list(l):\n",
    "    return [tuple(a) for a in l]\n",
    "\n",
    "\n",
    "# In[4]:\n",
    "\n",
    "\n",
    "def findIndex(mylist, substring):\n",
    "    if substring in mylist:\n",
    "        return [i for i, s in enumerate(mylist) if substring in s]\n",
    "    else:\n",
    "        return list()\n",
    "\n",
    "\n",
    "# In[5]:\n",
    "\n",
    "\n",
    "def findTrue(mylist):\n",
    "    return [i for i, x in enumerate(mylist) if x]\n",
    "\n",
    "\n",
    "# In[6]:\n",
    "\n",
    "\n",
    "def ItoP(Index):\n",
    "    i_ = np.array(Index)+1\n",
    "    pos_x = i_ % 28\n",
    "    pos_y = i_ // 28\n",
    "    pos_y[pos_x != 0] = pos_y[pos_x != 0] + 1\n",
    "    pos_x[pos_x == 0] = 28\n",
    "    return [tuple([pos_x[i],pos_y[i]]) for i in range(0,len(pos_x))]\n"
   ]
  },
  {
   "cell_type": "code",
   "execution_count": 36,
   "id": "1fefaeb3",
   "metadata": {},
   "outputs": [],
   "source": [
    "def toPkl(arguments):\n",
    "    dataname,rewardname,mapname = arguments\n",
    "    try:\n",
    "        # transform data for python user and save it\n",
    "        df = pd.read_csv(rawPath + dataname)\n",
    "        dfR = pd.read_csv(rawPath + rewardname)\n",
    "        dfM = pd.read_csv(rawPath + mapname)\n",
    "        dataFrame = transData(df, dfR)\n",
    "        waterStatus = pd.Series(np.zeros(dataFrame.shape[0]),name=\"waterStatus\",dtype=\"int64\")\n",
    "        closeTs = np.where(dataFrame.waterStatus == 2)[0]\n",
    "        openTs = np.where(dataFrame.waterStatus == 1)[0]\n",
    "        # fix waterStatus bug\n",
    "        k = 0\n",
    "        while len(closeTs) != len(openTs):\n",
    "            k += 1\n",
    "            bugI = min(np.where((closeTs[range(0,min(len(closeTs),len(openTs)))]-\n",
    "                                 openTs[range(0,min(len(closeTs),len(openTs)))])<0)[0])\n",
    "            if dataFrame.loc[closeTs[bugI]+1,\"Step\"] == 1:\n",
    "                closeTs = np.delete(closeTs,bugI)\n",
    "            elif all(dataFrame.loc[openTs[bugI-1]:closeTs[bugI],\"waterTS\"]==1):\n",
    "                closeTs = np.delete(closeTs,bugI-1)\n",
    "            else:\n",
    "                raise Exception(\"waterStatus: length is not equal\")\n",
    "            if k == 100:\n",
    "                raise Exception(\"waterStatus: length is not equal\")\n",
    "        waterStatus[closeTs] = 2\n",
    "        waterStatus[openTs] = 1\n",
    "        dataFrame.waterStatus=waterStatus\n",
    "        if dfM.shape[0] != dataFrame.shape[0]:\n",
    "            raise Exception(\"Map: length is not equal\")\n",
    "        dataFrame[\"Map\"] = dfM\n",
    "        print(\"save \" + dataname.replace(\".csv\", \".pickle\"))\n",
    "        dataFrame.to_pickle(dataPath+dataname.replace(\".csv\", \".pickle\"))\n",
    "    except:\n",
    "        print(\"something wrong with %s\" % dataname)\n",
    "        print(\"**********\")\n",
    "    return"
   ]
  },
  {
   "cell_type": "code",
   "execution_count": 37,
   "id": "2819705b",
   "metadata": {},
   "outputs": [],
   "source": [
    "rawPath = \"results/csv/\"\n",
    "dataPath = \"results/Omega/\"\n",
    "if not os.path.exists(dataPath):\n",
    "    os.makedirs(dataPath)\n",
    "filenames = os.listdir(rawPath)\n",
    "datanames = [filename for filename in filenames \n",
    "            if filename.startswith(\"omegaL\") and not filename.endswith(\"R.csv\") and not filename.endswith(\"M.csv\")]\n",
    "datanames.sort()\n",
    "rewardnames = [dataname.replace(\".csv\", \"-R.csv\") for dataname in datanames]\n",
    "mapnames = [dataname.replace(\".csv\", \"-M.csv\") for dataname in datanames]\n",
    "arguments = zip(datanames,rewardnames,mapnames)"
   ]
  },
  {
   "cell_type": "code",
   "execution_count": 38,
   "id": "4c3923c1",
   "metadata": {},
   "outputs": [],
   "source": [
    "dataname = datanames[0]\n",
    "rewardname = rewardnames[0]\n",
    "mapname = mapnames[0]"
   ]
  },
  {
   "cell_type": "code",
   "execution_count": 5,
   "id": "59f00276",
   "metadata": {},
   "outputs": [
    {
     "name": "stdout",
     "output_type": "stream",
     "text": [
      "save omegaL-01-Apr-2021-1.pickle\n"
     ]
    }
   ],
   "source": [
    "toPkl([dataname,rewardname,mapname])"
   ]
  },
  {
   "cell_type": "code",
   "execution_count": null,
   "id": "f75ef2d7",
   "metadata": {},
   "outputs": [],
   "source": [
    "pool_obj = multiprocessing.Pool()\n",
    "pool_obj.map(toPkl,arguments)"
   ]
  },
  {
   "cell_type": "code",
   "execution_count": 151,
   "id": "f50bd2d5",
   "metadata": {},
   "outputs": [],
   "source": [
    "# test part\n",
    "def checkHeigth(arguments):\n",
    "    fileName,Size,dataPath = arguments\n",
    "    df = pd.read_pickle(dataPath+fileName)\n",
    "    if df.shape[0] != Size:\n",
    "        print(fileName + \" length not equal\")\n",
    "    return\n",
    "    \n",
    "fileNames = os.listdir(dataPath)\n",
    "fileNames.sort()\n",
    "test_size = pd.read_csv(\"test/dataSize.csv\")\n",
    "test_size[\"fileNames\"] = test_size[\"fileNames\"].str.replace(\"mat\", \"pickle\")\n",
    "size_list = test_size.loc[[name_ in fileNames for name_ in test_size[\"fileNames\"]],\"Height\"].values.tolist()\n",
    "dataPaths = list([dataPath]) * len(fileNames)\n",
    "arguments = zip(fileNames,size_list,dataPaths)"
   ]
  },
  {
   "cell_type": "code",
   "execution_count": 155,
   "id": "bd7ac1a7",
   "metadata": {},
   "outputs": [],
   "source": [
    "arguments = [fileNames[0],159137,dataPaths[0]]"
   ]
  },
  {
   "cell_type": "code",
   "execution_count": 156,
   "id": "dbcb88ca",
   "metadata": {},
   "outputs": [],
   "source": [
    "checkHeigth(arguments)"
   ]
  },
  {
   "cell_type": "code",
   "execution_count": 62,
   "id": "3acfe8e7",
   "metadata": {},
   "outputs": [
    {
     "name": "stdout",
     "output_type": "stream",
     "text": [
      "JoyStick\n",
      "pDir\n"
     ]
    }
   ],
   "source": [
    "for cNames in df.columns.values:\n",
    "    if df[cNames].isnull().values.any():\n",
    "        print(cNames)"
   ]
  },
  {
   "cell_type": "code",
   "execution_count": 64,
   "id": "d282d5e5",
   "metadata": {},
   "outputs": [
    {
     "data": {
      "text/plain": [
       "5         NaN\n",
       "6         NaN\n",
       "7         NaN\n",
       "8         NaN\n",
       "9         NaN\n",
       "         ... \n",
       "159053    NaN\n",
       "159054    NaN\n",
       "159055    NaN\n",
       "159056    NaN\n",
       "159057    NaN\n",
       "Name: JoyStick, Length: 45787, dtype: object"
      ]
     },
     "execution_count": 64,
     "metadata": {},
     "output_type": "execute_result"
    }
   ],
   "source": [
    "df[\"JoyStick\"].loc[df[\"JoyStick\"].isnull()]"
   ]
  },
  {
   "cell_type": "code",
   "execution_count": 57,
   "id": "317c8b11",
   "metadata": {},
   "outputs": [
    {
     "ename": "ValueError",
     "evalue": "Cannot index with multidimensional key",
     "output_type": "error",
     "traceback": [
      "\u001b[0;31m---------------------------------------------------------------------------\u001b[0m",
      "\u001b[0;31mValueError\u001b[0m                                Traceback (most recent call last)",
      "\u001b[0;32m/tmp/ipykernel_56940/4131720351.py\u001b[0m in \u001b[0;36m<module>\u001b[0;34m\u001b[0m\n\u001b[0;32m----> 1\u001b[0;31m \u001b[0mdf\u001b[0m\u001b[0;34m.\u001b[0m\u001b[0mloc\u001b[0m\u001b[0;34m[\u001b[0m\u001b[0mdf\u001b[0m\u001b[0;34m.\u001b[0m\u001b[0misnull\u001b[0m\u001b[0;34m(\u001b[0m\u001b[0;34m)\u001b[0m\u001b[0;34m]\u001b[0m\u001b[0;34m\u001b[0m\u001b[0;34m\u001b[0m\u001b[0m\n\u001b[0m",
      "\u001b[0;32m~/anaconda3/envs/PreProcess/lib/python3.8/site-packages/pandas/core/indexing.py\u001b[0m in \u001b[0;36m__getitem__\u001b[0;34m(self, key)\u001b[0m\n\u001b[1;32m    929\u001b[0m \u001b[0;34m\u001b[0m\u001b[0m\n\u001b[1;32m    930\u001b[0m             \u001b[0mmaybe_callable\u001b[0m \u001b[0;34m=\u001b[0m \u001b[0mcom\u001b[0m\u001b[0;34m.\u001b[0m\u001b[0mapply_if_callable\u001b[0m\u001b[0;34m(\u001b[0m\u001b[0mkey\u001b[0m\u001b[0;34m,\u001b[0m \u001b[0mself\u001b[0m\u001b[0;34m.\u001b[0m\u001b[0mobj\u001b[0m\u001b[0;34m)\u001b[0m\u001b[0;34m\u001b[0m\u001b[0;34m\u001b[0m\u001b[0m\n\u001b[0;32m--> 931\u001b[0;31m             \u001b[0;32mreturn\u001b[0m \u001b[0mself\u001b[0m\u001b[0;34m.\u001b[0m\u001b[0m_getitem_axis\u001b[0m\u001b[0;34m(\u001b[0m\u001b[0mmaybe_callable\u001b[0m\u001b[0;34m,\u001b[0m \u001b[0maxis\u001b[0m\u001b[0;34m=\u001b[0m\u001b[0maxis\u001b[0m\u001b[0;34m)\u001b[0m\u001b[0;34m\u001b[0m\u001b[0;34m\u001b[0m\u001b[0m\n\u001b[0m\u001b[1;32m    932\u001b[0m \u001b[0;34m\u001b[0m\u001b[0m\n\u001b[1;32m    933\u001b[0m     \u001b[0;32mdef\u001b[0m \u001b[0m_is_scalar_access\u001b[0m\u001b[0;34m(\u001b[0m\u001b[0mself\u001b[0m\u001b[0;34m,\u001b[0m \u001b[0mkey\u001b[0m\u001b[0;34m:\u001b[0m \u001b[0mtuple\u001b[0m\u001b[0;34m)\u001b[0m\u001b[0;34m:\u001b[0m\u001b[0;34m\u001b[0m\u001b[0;34m\u001b[0m\u001b[0m\n",
      "\u001b[0;32m~/anaconda3/envs/PreProcess/lib/python3.8/site-packages/pandas/core/indexing.py\u001b[0m in \u001b[0;36m_getitem_axis\u001b[0;34m(self, key, axis)\u001b[0m\n\u001b[1;32m   1149\u001b[0m \u001b[0;34m\u001b[0m\u001b[0m\n\u001b[1;32m   1150\u001b[0m                 \u001b[0;32mif\u001b[0m \u001b[0mhasattr\u001b[0m\u001b[0;34m(\u001b[0m\u001b[0mkey\u001b[0m\u001b[0;34m,\u001b[0m \u001b[0;34m\"ndim\"\u001b[0m\u001b[0;34m)\u001b[0m \u001b[0;32mand\u001b[0m \u001b[0mkey\u001b[0m\u001b[0;34m.\u001b[0m\u001b[0mndim\u001b[0m \u001b[0;34m>\u001b[0m \u001b[0;36m1\u001b[0m\u001b[0;34m:\u001b[0m\u001b[0;34m\u001b[0m\u001b[0;34m\u001b[0m\u001b[0m\n\u001b[0;32m-> 1151\u001b[0;31m                     \u001b[0;32mraise\u001b[0m \u001b[0mValueError\u001b[0m\u001b[0;34m(\u001b[0m\u001b[0;34m\"Cannot index with multidimensional key\"\u001b[0m\u001b[0;34m)\u001b[0m\u001b[0;34m\u001b[0m\u001b[0;34m\u001b[0m\u001b[0m\n\u001b[0m\u001b[1;32m   1152\u001b[0m \u001b[0;34m\u001b[0m\u001b[0m\n\u001b[1;32m   1153\u001b[0m                 \u001b[0;32mreturn\u001b[0m \u001b[0mself\u001b[0m\u001b[0;34m.\u001b[0m\u001b[0m_getitem_iterable\u001b[0m\u001b[0;34m(\u001b[0m\u001b[0mkey\u001b[0m\u001b[0;34m,\u001b[0m \u001b[0maxis\u001b[0m\u001b[0;34m=\u001b[0m\u001b[0maxis\u001b[0m\u001b[0;34m)\u001b[0m\u001b[0;34m\u001b[0m\u001b[0;34m\u001b[0m\u001b[0m\n",
      "\u001b[0;31mValueError\u001b[0m: Cannot index with multidimensional key"
     ]
    }
   ],
   "source": [
    "df.loc[df.isnull()]"
   ]
  },
  {
   "cell_type": "code",
   "execution_count": null,
   "id": "e68915dc",
   "metadata": {},
   "outputs": [],
   "source": []
  }
 ],
 "metadata": {
  "kernelspec": {
   "display_name": "Python 3 (ipykernel)",
   "language": "python",
   "name": "python3"
  },
  "language_info": {
   "codemirror_mode": {
    "name": "ipython",
    "version": 3
   },
   "file_extension": ".py",
   "mimetype": "text/x-python",
   "name": "python",
   "nbconvert_exporter": "python",
   "pygments_lexer": "ipython3",
   "version": "3.8.12"
  }
 },
 "nbformat": 4,
 "nbformat_minor": 5
}
