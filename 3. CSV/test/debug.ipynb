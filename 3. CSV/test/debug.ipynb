{
 "cells": [
  {
   "cell_type": "code",
   "execution_count": 6,
   "id": "9d81bc9e",
   "metadata": {},
   "outputs": [],
   "source": [
    "import sys\n",
    "import os\n",
    "import shutil\n",
    "import pandas as pd\n",
    "import numpy as np\n",
    "import pickle as pkl\n",
    "import multiprocessing\n",
    "\n",
    "\n",
    "# test part\n",
    "def checkHeigth(arguments):\n",
    "    fileName,Size,dataPath = arguments\n",
    "    try:\n",
    "        df = pd.read_pickle(dataPath+fileName)\n",
    "    except:\n",
    "        print(\"error load data \"+fileName)\n",
    "        shutil.copyfile(dataPath+fileName, \"./\"+fileName)\n",
    "        return\n",
    "    if df.shape[0] != Size:\n",
    "        print(fileName + \" length not equal\")\n",
    "    return"
   ]
  },
  {
   "cell_type": "code",
   "execution_count": null,
   "id": "edc4653d",
   "metadata": {},
   "outputs": [],
   "source": [
    "rawPath = \"/mnt/e/data_2021/3. CSV/results/csv/\"\n",
    "dataPath = \"../results/Omega/\"\n",
    "if not os.path.exists(dataPath):\n",
    "    os.makedirs(dataPath)\n",
    "filenames = os.listdir(rawPath)\n",
    "datanames = [filename for filename in filenames\n",
    "            if filename.startswith(\"omegaL\") and not filename.endswith(\"R.csv\") and not filename.endswith(\"M.csv\")\n",
    "            and not filename in [dataname.replace(\"pickle\",\"csv\") for dataname in os.listdir(dataPath)]]"
   ]
  },
  {
   "cell_type": "code",
   "execution_count": 7,
   "id": "3e3ce799",
   "metadata": {},
   "outputs": [],
   "source": [
    "dataPath = \"../results/\"\n",
    "fileNames = os.listdir(dataPath)\n",
    "fileNames.sort()\n",
    "fileNames = [fileName for fileName in fileNames if fileName.endswith(\"pickle\") ]\n",
    "test_size = pd.read_csv(\"dataSize.csv\")\n",
    "test_size[\"fileNames\"] = test_size[\"fileNames\"].str.replace(\"mat\", \"pickle\")\n",
    "size_list = test_size.loc[[name_ in fileNames for name_ in test_size[\"fileNames\"]],\"Height\"].values.tolist()\n",
    "dataPaths = list([dataPath]) * len(fileNames)\n",
    "arguments = zip(fileNames,size_list,dataPaths)"
   ]
  },
  {
   "cell_type": "code",
   "execution_count": null,
   "id": "132f6328",
   "metadata": {},
   "outputs": [
    {
     "name": "stdout",
     "output_type": "stream",
     "text": [
      "('omegaL-03-Dec-2020-1.pickle', 270869, '../results/')\n",
      "('omegaL-05-Jan-2021-1.pickle', 285308, '../results/')\n",
      "('omegaL-08-Mar-2021-1.pickle', 249731, '../results/')\n"
     ]
    }
   ],
   "source": [
    "for argument in arguments:\n",
    "    print(argument)\n",
    "    checkHeigth(argument)"
   ]
  },
  {
   "cell_type": "code",
   "execution_count": null,
   "id": "cc12b504",
   "metadata": {},
   "outputs": [],
   "source": [
    "fileName,Size,dataPath = argument"
   ]
  },
  {
   "cell_type": "code",
   "execution_count": null,
   "id": "3bb24be0",
   "metadata": {},
   "outputs": [],
   "source": [
    "dataPath+fileName"
   ]
  },
  {
   "cell_type": "code",
   "execution_count": null,
   "id": "46126fe4",
   "metadata": {},
   "outputs": [],
   "source": [
    "df = pd.read_pickle('omegaL-01-Aug-2021-1.pickle')"
   ]
  },
  {
   "cell_type": "code",
   "execution_count": null,
   "id": "c910685b",
   "metadata": {},
   "outputs": [],
   "source": [
    "import pickle\n",
    "with open('omegaL-01-Aug-2021-1.pickle', 'rb') as f:\n",
    "    x = pickle.load(f)"
   ]
  },
  {
   "cell_type": "code",
   "execution_count": null,
   "id": "21824cff",
   "metadata": {},
   "outputs": [],
   "source": [
    "import os\n",
    "\n",
    "scores = {} # scores is an empty dict already\n",
    "\n",
    "os.path.getsize('omegaL-01-Aug-2021-1.pickle')"
   ]
  },
  {
   "cell_type": "code",
   "execution_count": null,
   "id": "e91500fe",
   "metadata": {},
   "outputs": [],
   "source": [
    "# main loop\n",
    "pool_obj = multiprocessing.Pool()\n",
    "pool_obj.map(checkHeigth,arguments)"
   ]
  },
  {
   "cell_type": "code",
   "execution_count": null,
   "id": "aaa60e2e",
   "metadata": {},
   "outputs": [],
   "source": []
  }
 ],
 "metadata": {
  "kernelspec": {
   "display_name": "Python 3 (ipykernel)",
   "language": "python",
   "name": "python3"
  },
  "language_info": {
   "codemirror_mode": {
    "name": "ipython",
    "version": 3
   },
   "file_extension": ".py",
   "mimetype": "text/x-python",
   "name": "python",
   "nbconvert_exporter": "python",
   "pygments_lexer": "ipython3",
   "version": "3.8.13"
  }
 },
 "nbformat": 4,
 "nbformat_minor": 5
}
