{
 "cells": [
  {
   "cell_type": "code",
   "execution_count": 1,
   "metadata": {},
   "outputs": [],
   "source": [
    "import h5py\n",
    "import numpy as np\n",
    "import pandas as pd\n",
    "import os\n",
    "from util import transMap,getDir,transDir,sqvz_zip,showMap\n",
    "Path = \"data/pilot7-04-Aug-2022-1\"\n",
    "fileNames = os.listdir(Path)"
   ]
  },
  {
   "cell_type": "code",
   "execution_count": 2,
   "metadata": {},
   "outputs": [],
   "source": [
    "# with h5py.File(f\"{Path}/{fileName}\", 'r') as file:\n",
    "#     data = file['data']\n",
    "#     print(data.keys())\n",
    "#     print(data['gameMap'].keys())"
   ]
  },
  {
   "cell_type": "code",
   "execution_count": 3,
   "metadata": {},
   "outputs": [],
   "source": [
    "dataFrame = pd.DataFrame()\n",
    "for fileName in fileNames:\n",
    "    if not fileName.endswith(\".mat\"):\n",
    "        continue\n",
    "    with h5py.File(f\"{Path}/{fileName}\", 'r') as file:\n",
    "        data = file['data']\n",
    "        pacMan_x = data['pacMan']['tile_x'][:]\n",
    "        pacMan_y = data['pacMan']['tile_y'][:]\n",
    "        ghosts_x = data['ghosts']['tile_x'][:]\n",
    "        ghosts_y = data['ghosts']['tile_y'][:]\n",
    "        up = data['direction']['up'][:]\n",
    "        down = data['direction']['down'][:]\n",
    "        right = data['direction']['right'][:]\n",
    "        left = data['direction']['left'][:]\n",
    "        dirEnum = np.int8(data['pacMan']['dirEnum'][:])\n",
    "        Map = data['gameMap']['currentTiles'][:]\n",
    "    data = dict({'DayTrial': fileName[0:-4],\n",
    "             'Step': range(0,len(up)),\n",
    "             'pacManPos': sqvz_zip(pacMan_x,pacMan_y), \n",
    "             'ghost1Pos': sqvz_zip(ghosts_x[:,0],ghosts_y[:,0]),\n",
    "             'ghost2Pos': sqvz_zip(ghosts_x[:,1],ghosts_y[:,1]),\n",
    "             'ghost3Pos': sqvz_zip(ghosts_x[:,2],ghosts_y[:,2]),\n",
    "             'ghost4Pos': sqvz_zip(ghosts_x[:,3],ghosts_y[:,3]),\n",
    "             'pacman_dir': transDir(dirEnum),\n",
    "             'JoyStick': getDir(up, down, right, left),\n",
    "             'Map': transMap(Map)})\n",
    "    df = pd.DataFrame(data)\n",
    "    dataFrame = pd.concat([dataFrame,df],ignore_index=True)\n",
    "dataFrame.to_csv(\"pilot7-04-Aug-2022-1.csv\")"
   ]
  },
  {
   "cell_type": "code",
   "execution_count": 4,
   "metadata": {},
   "outputs": [
    {
     "name": "stdout",
     "output_type": "stream",
     "text": [
      "_____________________________\n",
      "_____________________________\n",
      "_____________________________\n",
      "|||||||||||||||||||||||||||||\n",
      "|      ......|||          . |\n",
      "| |||| |||||.|||.||||| |||| |\n",
      "| |||| |||||.||| |||||.|||| |\n",
      "| |||| |||||.||| |||||.|||| |\n",
      "| .... .. ....              |\n",
      "| |||| || ||||||||| || |||| |\n",
      "| |||| || ||||||||| ||.|||| |\n",
      "|      ||    |||    ||      |\n",
      "|||||| ||||| ||| ||||| ||||||\n",
      "_____| ||||| ||| ||||| |_____\n",
      "_____| ||           || |_____\n",
      "_____| || |||---||| || |_____\n",
      "|||||| || |_______| || ||||||\n",
      "          |_______|          \n",
      "|||||| || |_______| || ||||||\n",
      "_____| || ||||||||| || |_____\n",
      "_____|.||           || |_____\n",
      "_____| ||.||||||||| || |_____\n",
      "|||||| ||.||||||||| || ||||||\n",
      "|            |||            |\n",
      "| |||| ||||| ||| ||||| |||| |\n",
      "|.|||| ||||| ||| ||||| |||| |\n",
      "|.||||                 |||| |\n",
      "| |||| || ||||||||| || |||| |\n",
      "| |||| || ||||||||| || |||| |\n",
      "|      ||.   |||    ||      |\n",
      "|.|||||||||| ||| |||||||||| |\n",
      "|.||||||||||.||| |||||||||| |\n",
      "|   . .. .. ..              |\n",
      "|||||||||||||||||||||||||||||\n",
      "_____________________________\n",
      "_____________________________\n"
     ]
    }
   ],
   "source": [
    "map_i = dataFrame.loc[0,\"Map\"]\n",
    "map_i = np.reshape(map_i,(36,29))\n",
    "showMap(map_i)"
   ]
  },
  {
   "cell_type": "code",
   "execution_count": null,
   "metadata": {},
   "outputs": [],
   "source": [
    "df1 = pd.read_csv(\"data/omegaL-03-Dec-2020-1pFlip.csv\")"
   ]
  },
  {
   "cell_type": "code",
   "execution_count": null,
   "metadata": {},
   "outputs": [],
   "source": [
    "df1.columns.values"
   ]
  },
  {
   "cell_type": "code",
   "execution_count": null,
   "metadata": {},
   "outputs": [],
   "source": [
    "df1.head(5)"
   ]
  },
  {
   "cell_type": "code",
   "execution_count": null,
   "metadata": {},
   "outputs": [],
   "source": []
  }
 ],
 "metadata": {
  "kernelspec": {
   "display_name": "Python 3.8.13 ('pacman')",
   "language": "python",
   "name": "python3"
  },
  "language_info": {
   "codemirror_mode": {
    "name": "ipython",
    "version": 3
   },
   "file_extension": ".py",
   "mimetype": "text/x-python",
   "name": "python",
   "nbconvert_exporter": "python",
   "pygments_lexer": "ipython3",
   "version": "3.8.13"
  },
  "orig_nbformat": 4,
  "vscode": {
   "interpreter": {
    "hash": "2d3d099ec4db8237419c7eb388529d3d2e2923b49610f6aba6850c895ed1cc97"
   }
  }
 },
 "nbformat": 4,
 "nbformat_minor": 2
}
