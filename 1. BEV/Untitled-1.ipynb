{
 "cells": [
  {
   "cell_type": "code",
   "execution_count": 1,
   "metadata": {},
   "outputs": [],
   "source": [
    "import h5py\n",
    "import numpy as np\n",
    "import pandas as pd\n",
    "import os\n",
    "from util import transMap,getDir,transDir,sqvz_zip,showMap,ModeTransfer\n",
    "Path = \"/mnt/d/data/pilot7-04-Aug-2022-1\"\n",
    "fileNames = os.listdir(Path)"
   ]
  },
  {
   "cell_type": "code",
   "execution_count": 2,
   "metadata": {},
   "outputs": [],
   "source": [
    "GT = pd.read_csv(\"Table.csv\")"
   ]
  },
  {
   "cell_type": "code",
   "execution_count": 3,
   "metadata": {},
   "outputs": [],
   "source": [
    "g1_gt = GT.ghost1.values\n",
    "g2_gt = GT.ghost2.values"
   ]
  },
  {
   "cell_type": "code",
   "execution_count": 4,
   "metadata": {},
   "outputs": [],
   "source": [
    "df = pd.read_csv(\"pilot7-04-Aug-2022-1.csv\")"
   ]
  },
  {
   "cell_type": "code",
   "execution_count": 17,
   "metadata": {},
   "outputs": [
    {
     "data": {
      "text/plain": [
       "True"
      ]
     },
     "execution_count": 17,
     "metadata": {},
     "output_type": "execute_result"
    }
   ],
   "source": [
    "np.all(df.loc[df['DayTrial'].str.startswith(\"1-1\"),\"ifscared1\"].values == g1_gt)"
   ]
  },
  {
   "cell_type": "code",
   "execution_count": 18,
   "metadata": {},
   "outputs": [
    {
     "data": {
      "text/plain": [
       "True"
      ]
     },
     "execution_count": 18,
     "metadata": {},
     "output_type": "execute_result"
    }
   ],
   "source": [
    "np.all(df.loc[df['DayTrial'].str.startswith(\"1-1\"),\"ifscared2\"].values == g2_gt)"
   ]
  },
  {
   "cell_type": "code",
   "execution_count": 4,
   "metadata": {},
   "outputs": [],
   "source": [
    "file = h5py.File(f\"{Path}/{fileNames[0]}\", 'r')\n",
    "data = file['data']\n",
    "g1 = data['ghosts']['mode'][:,0]\n",
    "g2 = data['ghosts']['mode'][:,1]\n",
    "g3 = data['ghosts']['mode'][:,2]\n",
    "g4 = data['ghosts']['mode'][:,3]\n",
    "g1_new = np.ones(len(g1)) * -1\n",
    "g2_new = np.ones(len(g2)) * -1\n",
    "g3_new = np.ones(len(g3)) * -1\n",
    "g4_new = np.ones(len(g4)) * -1"
   ]
  },
  {
   "cell_type": "code",
   "execution_count": 5,
   "metadata": {},
   "outputs": [],
   "source": [
    "# flash parameter\n",
    "i_ = np.floor((data['energizer']['duration'][:]-data['energizer']['count'][:])/ \\\n",
    "    data['energizer']['flashInterval'][:])\n",
    "# chasing or corner parameter\n",
    "dx = np.squeeze(data['pacMan']['tile_x'][:]) - (data['ghosts']['tile_x'][:,1] + data['ghosts']['dir_x'][:,1])\n",
    "dy = np.squeeze(data['pacMan']['tile_y'][:]) - (data['ghosts']['tile_y'][:,1] + data['ghosts']['dir_y'][:,1])\n",
    "dist = dx*dx+dy*dy"
   ]
  },
  {
   "cell_type": "code",
   "execution_count": 6,
   "metadata": {},
   "outputs": [],
   "source": [
    "# index = data['ghosts']['scared'][:,0] == 0, \\\n",
    "#         np.array([g1_i == 0 or g1_i == 4 or g1_i == 5 for g1_i in g1]))\n",
    "# g1_new[index] = 1 # chasing pacman\n",
    "# g1_new[np.array([g1_i == 1 or g1_i == 2 or g1_i == 3 for g1_i in g1])] = 3; # dead ghosts (include ghosts are being eaten)\n",
    "# index = np.logical_and(np.squeeze(i_ > 2*data['energizer']['flashes'][:]-1), \\\n",
    "#         data['ghosts']['scared'][:,0] == 1)\n",
    "# g1_new[index] = 4; # scared ghosts\n",
    "# index = np.logical_and(np.squeeze(i_ <= 2*data['energizer']['flashes'][:]-1), \\\n",
    "#         data['ghosts']['scared'][:,0] == 1)\n",
    "# g1_new[index] = 5; # flash scared ghosts"
   ]
  },
  {
   "cell_type": "code",
   "execution_count": 7,
   "metadata": {},
   "outputs": [],
   "source": [
    "# index = np.array([g2_i == 0 or g2_i == 4 or g2_i == 5 for g2_i in g2])\n",
    "# g2_new[(dist >= 64) & (data['ghosts']['scared'][:,1] == 0) & index] = 1; # chasing pacman\n",
    "# g2_new[(dist < 64) & (data['ghosts']['scared'][:,1] == 0) & index] = 2; # going corner\n",
    "# index = np.array([g2_i == 1 or g2_i == 2 or g2_i == 3 for g2_i in g2])\n",
    "# g2_new[index] = 3; # dead ghosts (include ghosts are being eaten)\n",
    "# g2_new[np.squeeze(i_ > 2*data['energizer']['flashes'][:]-1) & (data['ghosts']['scared'][:,1] == 1)] = 4; # scared ghosts\n",
    "# g2_new[np.squeeze(i_ <= 2*data['energizer']['flashes'][:]-1) & (data['ghosts']['scared'][:,1] == 1)] = 5; # flash scared ghosts\n"
   ]
  },
  {
   "cell_type": "code",
   "execution_count": 8,
   "metadata": {},
   "outputs": [],
   "source": [
    "index = (g1 == 0) | (g1 == 4) | (g1 == 5)\n",
    "g1_new[(data['ghosts']['scared'][:,0] == 0) & index] = 1 # chasing pacman\n",
    "g1_new[(g1 == 1) | (g1 == 2) | (g1 == 3)] = 3; # dead ghosts (include ghosts are being eaten)\n",
    "g1_new[np.squeeze(i_ > 2*data['energizer']['flashes'][:]-1) & (data['ghosts']['scared'][:,0] == 1)] = 4; # scared ghosts\n",
    "g1_new[np.squeeze(i_ <= 2*data['energizer']['flashes'][:]-1) & (data['ghosts']['scared'][:,0] == 1)] = 5; # flash scared ghosts\n",
    "\n",
    "index = np.array([g2_i == 0 or g2_i == 4 or g2_i == 5 for g2_i in g2])\n",
    "g2_new[(dist >= 64) & (data['ghosts']['scared'][:,1] == 0) & index] = 1; # chasing pacman\n",
    "g2_new[(dist < 64) & (data['ghosts']['scared'][:,1] == 0) & index] = 2; # going corner\n",
    "index = np.array([g2_i == 1 or g2_i == 2 or g2_i == 3 for g2_i in g2])\n",
    "g2_new[index] = 3; # dead ghosts (include ghosts are being eaten)\n",
    "g2_new[np.squeeze(i_ > 2*data['energizer']['flashes'][:]-1) & (data['ghosts']['scared'][:,1] == 1)] = 4; # scared ghosts\n",
    "g2_new[np.squeeze(i_ <= 2*data['energizer']['flashes'][:]-1) & (data['ghosts']['scared'][:,1] == 1)] = 5; # flash scared ghosts"
   ]
  },
  {
   "cell_type": "code",
   "execution_count": 9,
   "metadata": {},
   "outputs": [
    {
     "name": "stdout",
     "output_type": "stream",
     "text": [
      "True\n",
      "True\n"
     ]
    }
   ],
   "source": [
    "print(np.all(g1_new == g1_gt))\n",
    "print(np.all(g2_new == g2_gt))"
   ]
  },
  {
   "cell_type": "code",
   "execution_count": 25,
   "metadata": {},
   "outputs": [],
   "source": [
    "a = np.array([0,1,1,1,0,2,3,3,0])\n",
    "index = a > 0"
   ]
  },
  {
   "cell_type": "code",
   "execution_count": 26,
   "metadata": {},
   "outputs": [
    {
     "data": {
      "text/plain": [
       "array([False,  True,  True,  True, False,  True,  True,  True, False])"
      ]
     },
     "execution_count": 26,
     "metadata": {},
     "output_type": "execute_result"
    }
   ],
   "source": [
    "index"
   ]
  },
  {
   "cell_type": "code",
   "execution_count": 27,
   "metadata": {},
   "outputs": [
    {
     "data": {
      "text/plain": [
       "array([False,  True,  True,  True, False, False, False, False, False])"
      ]
     },
     "execution_count": 27,
     "metadata": {},
     "output_type": "execute_result"
    }
   ],
   "source": [
    "a == 1"
   ]
  },
  {
   "cell_type": "code",
   "execution_count": 22,
   "metadata": {},
   "outputs": [
    {
     "data": {
      "text/plain": [
       "array([False,  True,  True,  True, False, False, False, False, False])"
      ]
     },
     "execution_count": 22,
     "metadata": {},
     "output_type": "execute_result"
    }
   ],
   "source": [
    "np.logical_and(a == 1,index)"
   ]
  },
  {
   "cell_type": "code",
   "execution_count": 31,
   "metadata": {},
   "outputs": [
    {
     "data": {
      "text/plain": [
       "array([ True,  True,  True,  True,  True, False, False, False,  True])"
      ]
     },
     "execution_count": 31,
     "metadata": {},
     "output_type": "execute_result"
    }
   ],
   "source": [
    "a == 1 & index"
   ]
  },
  {
   "cell_type": "code",
   "execution_count": null,
   "metadata": {},
   "outputs": [],
   "source": []
  },
  {
   "cell_type": "code",
   "execution_count": null,
   "metadata": {},
   "outputs": [],
   "source": []
  },
  {
   "cell_type": "code",
   "execution_count": null,
   "metadata": {},
   "outputs": [],
   "source": []
  },
  {
   "cell_type": "code",
   "execution_count": null,
   "metadata": {},
   "outputs": [],
   "source": []
  },
  {
   "cell_type": "code",
   "execution_count": 27,
   "metadata": {},
   "outputs": [],
   "source": [
    "with h5py.File(f\"{Path}/{fileNames[0]}\", 'r') as file:\n",
    "    data = file['data']\n",
    "    g1 = data['ghosts']['mode'][:,0]\n",
    "    g2 = data['ghosts']['mode'][:,1]\n",
    "    g3 = data['ghosts']['mode'][:,2]\n",
    "    g4 = data['ghosts']['mode'][:,3]\n",
    "    g1_new = g1\n",
    "    g2_new = g2\n",
    "    g3_new = g3\n",
    "    g4_new = g4\n",
    "    # flash parameter\n",
    "    i_ = np.floor((data['energizer']['duration'][:]-data['energizer']['count'][:])/ \\\n",
    "        data['energizer']['flashInterval'][:])\n",
    "    # chasing or corner parameter\n",
    "    dx = np.squeeze(data['pacMan']['tile_x'][:]) - (data['ghosts']['tile_x'][:,2] + data['ghosts']['dir_x'][:,2])\n",
    "    dy = np.squeeze(data['pacMan']['tile_y'][:]) - (data['ghosts']['tile_y'][:,2] + data['ghosts']['dir_y'][:,2])\n",
    "    dist = dx*dx+dy*dy\n",
    "\n",
    "    index = np.array([g1_i == 0 or g1_i == 4 or g1_i == 5 for g1_i in g1])\n",
    "    g1_new[data['ghosts']['scared'][:,0] == 0 & index] = 1 # chasing pacman\n",
    "    index = np.array([g1_i == 1 or g1_i == 2 or g1_i == 3 for g1_i in g1])\n",
    "    g1_new[index] = 3; # dead ghosts (include ghosts are being eaten)\n",
    "    g1_new[np.squeeze(i_ > 2*data['energizer']['flashes'][:]-1) & (data['ghosts']['scared'][:,0] == 1)] = 4; # scared ghosts\n",
    "    g1_new[np.squeeze(i_ <= 2*data['energizer']['flashes'][:]-1) & (data['ghosts']['scared'][:,0] == 1)] = 5; # flash scared ghosts\n",
    "\n",
    "    index = np.array([g2_i == 0 or g2_i == 4 or g2_i == 5 for g2_i in g2])\n",
    "    g2_new[dist >= 64 & (data['ghosts']['scared'][:,1] == 0) & index] = 1; # chasing pacman\n",
    "    g2_new[dist < 64 & (data['ghosts']['scared'][:,1] == 0) & index] = 2; # going corner\n",
    "    index = np.array([g2_i == 1 or g2_i == 2 or g2_i == 3 for g2_i in g2])\n",
    "    g2_new[index] = 3; # dead ghosts (include ghosts are being eaten)\n",
    "    g2_new[np.squeeze(i_ > 2*data['energizer']['flashes'][:]-1) & (data['ghosts']['scared'][:,1] == 1)] = 4; # scared ghosts\n",
    "    g2_new[np.squeeze(i_ <= 2*data['energizer']['flashes'][:]-1) & (data['ghosts']['scared'][:,1] == 1)] = 5; # flash scared ghosts\n",
    "\n",
    "    index = np.array([g3_i == 0 or g3_i == 4 or g3_i == 5 for g3_i in g3])\n",
    "    g3_new[data['ghosts']['scared'][:,2] == 0 & index] = 1 # chasing pacman\n",
    "    index = np.array([g3_i == 1 or g3_i == 2 or g3_i == 3 for g3_i in g3])\n",
    "    g3_new[index] = 3; # dead ghosts (include ghosts are being eaten)\n",
    "    g3_new[np.squeeze(i_ > 2*data['energizer']['flashes'][:]-1) & (data['ghosts']['scared'][:,2] == 1)] = 4; # scared ghosts\n",
    "    g3_new[np.squeeze(i_ <= 2*data['energizer']['flashes'][:]-1) & (data['ghosts']['scared'][:,2] == 1)] = 5; # flash scared ghosts\n",
    "    \n",
    "    index = np.array([g4_i == 0 or g4_i == 4 or g4_i == 5 for g4_i in g4])\n",
    "    g4_new[data['ghosts']['scared'][:,3] == 0 & index] = 1 # chasing pacman\n",
    "    index = np.array([g4_i == 1 or g4_i == 2 or g4_i == 3 for g4_i in g4])\n",
    "    g4_new[index] = 3; # dead ghosts (include ghosts are being eaten)\n",
    "    g4_new[np.squeeze(i_ > 2*data['energizer']['flashes'][:]-1) & (data['ghosts']['scared'][:,3] == 1)] = 4; # scared ghosts\n",
    "    g4_new[np.squeeze(i_ <= 2*data['energizer']['flashes'][:]-1) & (data['ghosts']['scared'][:,3] == 1)] = 5; # flash scared ghosts\n",
    "\n"
   ]
  },
  {
   "cell_type": "code",
   "execution_count": 28,
   "metadata": {},
   "outputs": [],
   "source": [
    "data = dict({'DayTrial': fileNames[0][0:-4],\n",
    "         'ifscared1': ifsacred1,\n",
    "         'ifscared2': ifsacred2,\n",
    "         'ifscared3': ifsacred3,\n",
    "         'ifscared4': ifsacred4})"
   ]
  },
  {
   "cell_type": "code",
   "execution_count": 30,
   "metadata": {},
   "outputs": [
    {
     "data": {
      "text/html": [
       "<div>\n",
       "<style scoped>\n",
       "    .dataframe tbody tr th:only-of-type {\n",
       "        vertical-align: middle;\n",
       "    }\n",
       "\n",
       "    .dataframe tbody tr th {\n",
       "        vertical-align: top;\n",
       "    }\n",
       "\n",
       "    .dataframe thead th {\n",
       "        text-align: right;\n",
       "    }\n",
       "</style>\n",
       "<table border=\"1\" class=\"dataframe\">\n",
       "  <thead>\n",
       "    <tr style=\"text-align: right;\">\n",
       "      <th></th>\n",
       "      <th>DayTrial</th>\n",
       "      <th>ifscared1</th>\n",
       "      <th>ifscared2</th>\n",
       "      <th>ifscared3</th>\n",
       "      <th>ifscared4</th>\n",
       "    </tr>\n",
       "  </thead>\n",
       "  <tbody>\n",
       "    <tr>\n",
       "      <th>0</th>\n",
       "      <td>1-1-pilot7-04-Aug-2022</td>\n",
       "      <td>3</td>\n",
       "      <td>3</td>\n",
       "      <td>3</td>\n",
       "      <td>3</td>\n",
       "    </tr>\n",
       "    <tr>\n",
       "      <th>1</th>\n",
       "      <td>1-1-pilot7-04-Aug-2022</td>\n",
       "      <td>3</td>\n",
       "      <td>3</td>\n",
       "      <td>3</td>\n",
       "      <td>3</td>\n",
       "    </tr>\n",
       "    <tr>\n",
       "      <th>2</th>\n",
       "      <td>1-1-pilot7-04-Aug-2022</td>\n",
       "      <td>3</td>\n",
       "      <td>3</td>\n",
       "      <td>3</td>\n",
       "      <td>3</td>\n",
       "    </tr>\n",
       "    <tr>\n",
       "      <th>3</th>\n",
       "      <td>1-1-pilot7-04-Aug-2022</td>\n",
       "      <td>3</td>\n",
       "      <td>3</td>\n",
       "      <td>3</td>\n",
       "      <td>3</td>\n",
       "    </tr>\n",
       "    <tr>\n",
       "      <th>4</th>\n",
       "      <td>1-1-pilot7-04-Aug-2022</td>\n",
       "      <td>3</td>\n",
       "      <td>3</td>\n",
       "      <td>3</td>\n",
       "      <td>3</td>\n",
       "    </tr>\n",
       "    <tr>\n",
       "      <th>...</th>\n",
       "      <td>...</td>\n",
       "      <td>...</td>\n",
       "      <td>...</td>\n",
       "      <td>...</td>\n",
       "      <td>...</td>\n",
       "    </tr>\n",
       "    <tr>\n",
       "      <th>3215</th>\n",
       "      <td>1-1-pilot7-04-Aug-2022</td>\n",
       "      <td>3</td>\n",
       "      <td>3</td>\n",
       "      <td>3</td>\n",
       "      <td>3</td>\n",
       "    </tr>\n",
       "    <tr>\n",
       "      <th>3216</th>\n",
       "      <td>1-1-pilot7-04-Aug-2022</td>\n",
       "      <td>3</td>\n",
       "      <td>3</td>\n",
       "      <td>3</td>\n",
       "      <td>3</td>\n",
       "    </tr>\n",
       "    <tr>\n",
       "      <th>3217</th>\n",
       "      <td>1-1-pilot7-04-Aug-2022</td>\n",
       "      <td>3</td>\n",
       "      <td>3</td>\n",
       "      <td>3</td>\n",
       "      <td>3</td>\n",
       "    </tr>\n",
       "    <tr>\n",
       "      <th>3218</th>\n",
       "      <td>1-1-pilot7-04-Aug-2022</td>\n",
       "      <td>3</td>\n",
       "      <td>3</td>\n",
       "      <td>3</td>\n",
       "      <td>3</td>\n",
       "    </tr>\n",
       "    <tr>\n",
       "      <th>3219</th>\n",
       "      <td>1-1-pilot7-04-Aug-2022</td>\n",
       "      <td>3</td>\n",
       "      <td>3</td>\n",
       "      <td>3</td>\n",
       "      <td>3</td>\n",
       "    </tr>\n",
       "  </tbody>\n",
       "</table>\n",
       "<p>3220 rows × 5 columns</p>\n",
       "</div>"
      ],
      "text/plain": [
       "                    DayTrial  ifscared1  ifscared2  ifscared3  ifscared4\n",
       "0     1-1-pilot7-04-Aug-2022          3          3          3          3\n",
       "1     1-1-pilot7-04-Aug-2022          3          3          3          3\n",
       "2     1-1-pilot7-04-Aug-2022          3          3          3          3\n",
       "3     1-1-pilot7-04-Aug-2022          3          3          3          3\n",
       "4     1-1-pilot7-04-Aug-2022          3          3          3          3\n",
       "...                      ...        ...        ...        ...        ...\n",
       "3215  1-1-pilot7-04-Aug-2022          3          3          3          3\n",
       "3216  1-1-pilot7-04-Aug-2022          3          3          3          3\n",
       "3217  1-1-pilot7-04-Aug-2022          3          3          3          3\n",
       "3218  1-1-pilot7-04-Aug-2022          3          3          3          3\n",
       "3219  1-1-pilot7-04-Aug-2022          3          3          3          3\n",
       "\n",
       "[3220 rows x 5 columns]"
      ]
     },
     "execution_count": 30,
     "metadata": {},
     "output_type": "execute_result"
    }
   ],
   "source": [
    "pd.DataFrame(data)"
   ]
  },
  {
   "cell_type": "code",
   "execution_count": 31,
   "metadata": {},
   "outputs": [],
   "source": [
    "dataFrame = pd.DataFrame()\n",
    "for fileName in fileNames:\n",
    "    if not fileName.endswith(\".mat\"):\n",
    "        continue\n",
    "    with h5py.File(f\"{Path}/{fileName}\", 'r') as file:\n",
    "        data = file['data']\n",
    "        pacMan_x = data['pacMan']['tile_x'][:]\n",
    "        pacMan_y = data['pacMan']['tile_y'][:]\n",
    "        ghosts_x = data['ghosts']['tile_x'][:]\n",
    "        ghosts_y = data['ghosts']['tile_y'][:]\n",
    "        up = data['direction']['up'][:]\n",
    "        down = data['direction']['down'][:]\n",
    "        right = data['direction']['right'][:]\n",
    "        left = data['direction']['left'][:]\n",
    "        dirEnum = np.int8(data['pacMan']['dirEnum'][:])\n",
    "        Map = data['gameMap']['currentTiles'][:]\n",
    "        ifsacred1,ifsacred2,ifsacred3,ifsacred4 = ModeTransfer(data)\n",
    "    data = dict({'DayTrial': fileName[0:-4],\n",
    "             'Step': range(0,len(up)),\n",
    "             'pacManPos': sqvz_zip(pacMan_x,pacMan_y), \n",
    "             'ghost1Pos': sqvz_zip(ghosts_x[:,0],ghosts_y[:,0]),\n",
    "             'ghost2Pos': sqvz_zip(ghosts_x[:,1],ghosts_y[:,1]),\n",
    "             'ghost3Pos': sqvz_zip(ghosts_x[:,2],ghosts_y[:,2]),\n",
    "             'ghost4Pos': sqvz_zip(ghosts_x[:,3],ghosts_y[:,3]),\n",
    "             'ifscared1': ifsacred1,\n",
    "             'ifscared2': ifsacred2,\n",
    "             'ifscared3': ifsacred3,\n",
    "             'ifscared4': ifsacred4,\n",
    "             'pacman_dir': transDir(dirEnum),\n",
    "             'JoyStick': getDir(up, down, right, left),\n",
    "             'Map': transMap(Map)})\n",
    "    df = pd.DataFrame(data)\n",
    "    dataFrame = pd.concat([dataFrame,df],ignore_index=True)\n",
    "dataFrame.to_csv(\"pilot7-04-Aug-2022-1.csv\")"
   ]
  },
  {
   "cell_type": "code",
   "execution_count": 33,
   "metadata": {},
   "outputs": [
    {
     "data": {
      "text/html": [
       "<div>\n",
       "<style scoped>\n",
       "    .dataframe tbody tr th:only-of-type {\n",
       "        vertical-align: middle;\n",
       "    }\n",
       "\n",
       "    .dataframe tbody tr th {\n",
       "        vertical-align: top;\n",
       "    }\n",
       "\n",
       "    .dataframe thead th {\n",
       "        text-align: right;\n",
       "    }\n",
       "</style>\n",
       "<table border=\"1\" class=\"dataframe\">\n",
       "  <thead>\n",
       "    <tr style=\"text-align: right;\">\n",
       "      <th></th>\n",
       "      <th>DayTrial</th>\n",
       "      <th>Step</th>\n",
       "      <th>pacManPos</th>\n",
       "      <th>ghost1Pos</th>\n",
       "      <th>ghost2Pos</th>\n",
       "      <th>ghost3Pos</th>\n",
       "      <th>ghost4Pos</th>\n",
       "      <th>ifscared1</th>\n",
       "      <th>ifscared2</th>\n",
       "      <th>ifscared3</th>\n",
       "      <th>ifscared4</th>\n",
       "      <th>pacman_dir</th>\n",
       "      <th>JoyStick</th>\n",
       "      <th>Map</th>\n",
       "    </tr>\n",
       "  </thead>\n",
       "  <tbody>\n",
       "    <tr>\n",
       "      <th>0</th>\n",
       "      <td>1-1-pilot7-04-Aug-2022</td>\n",
       "      <td>0</td>\n",
       "      <td>(15, 9)</td>\n",
       "      <td>(14, 18)</td>\n",
       "      <td>(15, 19)</td>\n",
       "      <td>(14, 17)</td>\n",
       "      <td>(14, 20)</td>\n",
       "      <td>3</td>\n",
       "      <td>3</td>\n",
       "      <td>3</td>\n",
       "      <td>3</td>\n",
       "      <td></td>\n",
       "      <td></td>\n",
       "      <td>[_, _, _, _, _, _, _, _, _, _, _, _, _, _, _, ...</td>\n",
       "    </tr>\n",
       "    <tr>\n",
       "      <th>1</th>\n",
       "      <td>1-1-pilot7-04-Aug-2022</td>\n",
       "      <td>1</td>\n",
       "      <td>(15, 9)</td>\n",
       "      <td>(14, 18)</td>\n",
       "      <td>(15, 19)</td>\n",
       "      <td>(14, 17)</td>\n",
       "      <td>(14, 20)</td>\n",
       "      <td>3</td>\n",
       "      <td>3</td>\n",
       "      <td>3</td>\n",
       "      <td>3</td>\n",
       "      <td></td>\n",
       "      <td></td>\n",
       "      <td>[_, _, _, _, _, _, _, _, _, _, _, _, _, _, _, ...</td>\n",
       "    </tr>\n",
       "    <tr>\n",
       "      <th>2</th>\n",
       "      <td>1-1-pilot7-04-Aug-2022</td>\n",
       "      <td>2</td>\n",
       "      <td>(15, 9)</td>\n",
       "      <td>(14, 18)</td>\n",
       "      <td>(15, 19)</td>\n",
       "      <td>(14, 17)</td>\n",
       "      <td>(14, 20)</td>\n",
       "      <td>3</td>\n",
       "      <td>3</td>\n",
       "      <td>3</td>\n",
       "      <td>3</td>\n",
       "      <td></td>\n",
       "      <td></td>\n",
       "      <td>[_, _, _, _, _, _, _, _, _, _, _, _, _, _, _, ...</td>\n",
       "    </tr>\n",
       "    <tr>\n",
       "      <th>3</th>\n",
       "      <td>1-1-pilot7-04-Aug-2022</td>\n",
       "      <td>3</td>\n",
       "      <td>(15, 9)</td>\n",
       "      <td>(14, 18)</td>\n",
       "      <td>(15, 19)</td>\n",
       "      <td>(14, 17)</td>\n",
       "      <td>(14, 20)</td>\n",
       "      <td>3</td>\n",
       "      <td>3</td>\n",
       "      <td>3</td>\n",
       "      <td>3</td>\n",
       "      <td></td>\n",
       "      <td>right</td>\n",
       "      <td>[_, _, _, _, _, _, _, _, _, _, _, _, _, _, _, ...</td>\n",
       "    </tr>\n",
       "    <tr>\n",
       "      <th>4</th>\n",
       "      <td>1-1-pilot7-04-Aug-2022</td>\n",
       "      <td>4</td>\n",
       "      <td>(15, 9)</td>\n",
       "      <td>(14, 18)</td>\n",
       "      <td>(15, 19)</td>\n",
       "      <td>(14, 17)</td>\n",
       "      <td>(14, 20)</td>\n",
       "      <td>3</td>\n",
       "      <td>3</td>\n",
       "      <td>3</td>\n",
       "      <td>3</td>\n",
       "      <td>right</td>\n",
       "      <td>right</td>\n",
       "      <td>[_, _, _, _, _, _, _, _, _, _, _, _, _, _, _, ...</td>\n",
       "    </tr>\n",
       "    <tr>\n",
       "      <th>5</th>\n",
       "      <td>1-1-pilot7-04-Aug-2022</td>\n",
       "      <td>5</td>\n",
       "      <td>(15, 9)</td>\n",
       "      <td>(14, 18)</td>\n",
       "      <td>(15, 19)</td>\n",
       "      <td>(14, 17)</td>\n",
       "      <td>(14, 20)</td>\n",
       "      <td>3</td>\n",
       "      <td>3</td>\n",
       "      <td>3</td>\n",
       "      <td>3</td>\n",
       "      <td>right</td>\n",
       "      <td>right</td>\n",
       "      <td>[_, _, _, _, _, _, _, _, _, _, _, _, _, _, _, ...</td>\n",
       "    </tr>\n",
       "    <tr>\n",
       "      <th>6</th>\n",
       "      <td>1-1-pilot7-04-Aug-2022</td>\n",
       "      <td>6</td>\n",
       "      <td>(15, 9)</td>\n",
       "      <td>(14, 18)</td>\n",
       "      <td>(15, 19)</td>\n",
       "      <td>(14, 17)</td>\n",
       "      <td>(14, 20)</td>\n",
       "      <td>3</td>\n",
       "      <td>3</td>\n",
       "      <td>3</td>\n",
       "      <td>3</td>\n",
       "      <td>right</td>\n",
       "      <td>right</td>\n",
       "      <td>[_, _, _, _, _, _, _, _, _, _, _, _, _, _, _, ...</td>\n",
       "    </tr>\n",
       "    <tr>\n",
       "      <th>7</th>\n",
       "      <td>1-1-pilot7-04-Aug-2022</td>\n",
       "      <td>7</td>\n",
       "      <td>(15, 9)</td>\n",
       "      <td>(14, 18)</td>\n",
       "      <td>(15, 19)</td>\n",
       "      <td>(14, 17)</td>\n",
       "      <td>(14, 20)</td>\n",
       "      <td>3</td>\n",
       "      <td>3</td>\n",
       "      <td>3</td>\n",
       "      <td>3</td>\n",
       "      <td>right</td>\n",
       "      <td>right</td>\n",
       "      <td>[_, _, _, _, _, _, _, _, _, _, _, _, _, _, _, ...</td>\n",
       "    </tr>\n",
       "    <tr>\n",
       "      <th>8</th>\n",
       "      <td>1-1-pilot7-04-Aug-2022</td>\n",
       "      <td>8</td>\n",
       "      <td>(15, 9)</td>\n",
       "      <td>(14, 18)</td>\n",
       "      <td>(15, 19)</td>\n",
       "      <td>(14, 17)</td>\n",
       "      <td>(14, 20)</td>\n",
       "      <td>3</td>\n",
       "      <td>3</td>\n",
       "      <td>3</td>\n",
       "      <td>3</td>\n",
       "      <td>right</td>\n",
       "      <td>right</td>\n",
       "      <td>[_, _, _, _, _, _, _, _, _, _, _, _, _, _, _, ...</td>\n",
       "    </tr>\n",
       "    <tr>\n",
       "      <th>9</th>\n",
       "      <td>1-1-pilot7-04-Aug-2022</td>\n",
       "      <td>9</td>\n",
       "      <td>(15, 9)</td>\n",
       "      <td>(14, 18)</td>\n",
       "      <td>(15, 19)</td>\n",
       "      <td>(14, 17)</td>\n",
       "      <td>(14, 20)</td>\n",
       "      <td>3</td>\n",
       "      <td>3</td>\n",
       "      <td>3</td>\n",
       "      <td>3</td>\n",
       "      <td>right</td>\n",
       "      <td>right</td>\n",
       "      <td>[_, _, _, _, _, _, _, _, _, _, _, _, _, _, _, ...</td>\n",
       "    </tr>\n",
       "  </tbody>\n",
       "</table>\n",
       "</div>"
      ],
      "text/plain": [
       "                 DayTrial  Step pacManPos ghost1Pos ghost2Pos ghost3Pos  \\\n",
       "0  1-1-pilot7-04-Aug-2022     0   (15, 9)  (14, 18)  (15, 19)  (14, 17)   \n",
       "1  1-1-pilot7-04-Aug-2022     1   (15, 9)  (14, 18)  (15, 19)  (14, 17)   \n",
       "2  1-1-pilot7-04-Aug-2022     2   (15, 9)  (14, 18)  (15, 19)  (14, 17)   \n",
       "3  1-1-pilot7-04-Aug-2022     3   (15, 9)  (14, 18)  (15, 19)  (14, 17)   \n",
       "4  1-1-pilot7-04-Aug-2022     4   (15, 9)  (14, 18)  (15, 19)  (14, 17)   \n",
       "5  1-1-pilot7-04-Aug-2022     5   (15, 9)  (14, 18)  (15, 19)  (14, 17)   \n",
       "6  1-1-pilot7-04-Aug-2022     6   (15, 9)  (14, 18)  (15, 19)  (14, 17)   \n",
       "7  1-1-pilot7-04-Aug-2022     7   (15, 9)  (14, 18)  (15, 19)  (14, 17)   \n",
       "8  1-1-pilot7-04-Aug-2022     8   (15, 9)  (14, 18)  (15, 19)  (14, 17)   \n",
       "9  1-1-pilot7-04-Aug-2022     9   (15, 9)  (14, 18)  (15, 19)  (14, 17)   \n",
       "\n",
       "  ghost4Pos  ifscared1  ifscared2  ifscared3  ifscared4 pacman_dir JoyStick  \\\n",
       "0  (14, 20)          3          3          3          3                       \n",
       "1  (14, 20)          3          3          3          3                       \n",
       "2  (14, 20)          3          3          3          3                       \n",
       "3  (14, 20)          3          3          3          3               right   \n",
       "4  (14, 20)          3          3          3          3      right    right   \n",
       "5  (14, 20)          3          3          3          3      right    right   \n",
       "6  (14, 20)          3          3          3          3      right    right   \n",
       "7  (14, 20)          3          3          3          3      right    right   \n",
       "8  (14, 20)          3          3          3          3      right    right   \n",
       "9  (14, 20)          3          3          3          3      right    right   \n",
       "\n",
       "                                                 Map  \n",
       "0  [_, _, _, _, _, _, _, _, _, _, _, _, _, _, _, ...  \n",
       "1  [_, _, _, _, _, _, _, _, _, _, _, _, _, _, _, ...  \n",
       "2  [_, _, _, _, _, _, _, _, _, _, _, _, _, _, _, ...  \n",
       "3  [_, _, _, _, _, _, _, _, _, _, _, _, _, _, _, ...  \n",
       "4  [_, _, _, _, _, _, _, _, _, _, _, _, _, _, _, ...  \n",
       "5  [_, _, _, _, _, _, _, _, _, _, _, _, _, _, _, ...  \n",
       "6  [_, _, _, _, _, _, _, _, _, _, _, _, _, _, _, ...  \n",
       "7  [_, _, _, _, _, _, _, _, _, _, _, _, _, _, _, ...  \n",
       "8  [_, _, _, _, _, _, _, _, _, _, _, _, _, _, _, ...  \n",
       "9  [_, _, _, _, _, _, _, _, _, _, _, _, _, _, _, ...  "
      ]
     },
     "execution_count": 33,
     "metadata": {},
     "output_type": "execute_result"
    }
   ],
   "source": [
    "dataFrame.head(10)"
   ]
  },
  {
   "cell_type": "code",
   "execution_count": 4,
   "metadata": {},
   "outputs": [
    {
     "name": "stdout",
     "output_type": "stream",
     "text": [
      "_____________________________\n",
      "_____________________________\n",
      "_____________________________\n",
      "|||||||||||||||||||||||||||||\n",
      "|      ......|||          . |\n",
      "| |||| |||||.|||.||||| |||| |\n",
      "| |||| |||||.||| |||||.|||| |\n",
      "| |||| |||||.||| |||||.|||| |\n",
      "| .... .. ....              |\n",
      "| |||| || ||||||||| || |||| |\n",
      "| |||| || ||||||||| ||.|||| |\n",
      "|      ||    |||    ||      |\n",
      "|||||| ||||| ||| ||||| ||||||\n",
      "_____| ||||| ||| ||||| |_____\n",
      "_____| ||           || |_____\n",
      "_____| || |||---||| || |_____\n",
      "|||||| || |_______| || ||||||\n",
      "          |_______|          \n",
      "|||||| || |_______| || ||||||\n",
      "_____| || ||||||||| || |_____\n",
      "_____|.||           || |_____\n",
      "_____| ||.||||||||| || |_____\n",
      "|||||| ||.||||||||| || ||||||\n",
      "|            |||            |\n",
      "| |||| ||||| ||| ||||| |||| |\n",
      "|.|||| ||||| ||| ||||| |||| |\n",
      "|.||||                 |||| |\n",
      "| |||| || ||||||||| || |||| |\n",
      "| |||| || ||||||||| || |||| |\n",
      "|      ||.   |||    ||      |\n",
      "|.|||||||||| ||| |||||||||| |\n",
      "|.||||||||||.||| |||||||||| |\n",
      "|   . .. .. ..              |\n",
      "|||||||||||||||||||||||||||||\n",
      "_____________________________\n",
      "_____________________________\n"
     ]
    }
   ],
   "source": [
    "map_i = dataFrame.loc[0,\"Map\"]\n",
    "map_i = np.reshape(map_i,(36,29))\n",
    "showMap(map_i)"
   ]
  },
  {
   "cell_type": "code",
   "execution_count": null,
   "metadata": {},
   "outputs": [],
   "source": [
    "df1 = pd.read_csv(\"data/omegaL-03-Dec-2020-1pFlip.csv\")"
   ]
  },
  {
   "cell_type": "code",
   "execution_count": null,
   "metadata": {},
   "outputs": [],
   "source": [
    "df1.columns.values"
   ]
  },
  {
   "cell_type": "code",
   "execution_count": null,
   "metadata": {},
   "outputs": [],
   "source": [
    "df1.head(5)"
   ]
  },
  {
   "cell_type": "code",
   "execution_count": null,
   "metadata": {},
   "outputs": [],
   "source": []
  }
 ],
 "metadata": {
  "kernelspec": {
   "display_name": "Python 3.8.13 ('pacman')",
   "language": "python",
   "name": "python3"
  },
  "language_info": {
   "codemirror_mode": {
    "name": "ipython",
    "version": 3
   },
   "file_extension": ".py",
   "mimetype": "text/x-python",
   "name": "python",
   "nbconvert_exporter": "python",
   "pygments_lexer": "ipython3",
   "version": "3.8.13"
  },
  "orig_nbformat": 4,
  "vscode": {
   "interpreter": {
    "hash": "2d3d099ec4db8237419c7eb388529d3d2e2923b49610f6aba6850c895ed1cc97"
   }
  }
 },
 "nbformat": 4,
 "nbformat_minor": 2
}
